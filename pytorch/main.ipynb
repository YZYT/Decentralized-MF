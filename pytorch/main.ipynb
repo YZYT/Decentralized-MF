{
  "nbformat": 4,
  "nbformat_minor": 2,
  "metadata": {
    "colab": {
      "name": "ML2021Spring - HW1.ipynb",
      "provenance": [],
      "collapsed_sections": []
    },
    "kernelspec": {
      "name": "python3",
      "display_name": "Python 3.8.10 64-bit ('py38': conda)"
    },
    "accelerator": "GPU",
    "language_info": {
      "name": "python",
      "version": "3.8.10",
      "mimetype": "text/x-python",
      "codemirror_mode": {
        "name": "ipython",
        "version": 3
      },
      "pygments_lexer": "ipython3",
      "nbconvert_exporter": "python",
      "file_extension": ".py"
    },
    "interpreter": {
      "hash": "b1d710d4a2dd0e836743a9708dcf2dd87750cb6db75a03dbc0a1931aaec4e6cb"
    }
  },
  "cells": [
    {
      "cell_type": "code",
      "execution_count": 1,
      "source": [
        "# PyTorch\n",
        "import torch\n",
        "import torch.nn as nn\n",
        "from torch.utils.data import Dataset, DataLoader\n",
        "\n",
        "# For data preprocess\n",
        "import numpy as np\n",
        "import csv\n",
        "import os\n",
        "\n",
        "# For plotting\n",
        "import matplotlib.pyplot as plt\n",
        "from matplotlib.pyplot import figure\n",
        "from utils.mylib import *\n",
        "from d2l import torch as d2l"
      ],
      "outputs": [],
      "metadata": {
        "id": "k-onQd4JNA5H",
        "outputId": "0317f255-2dd4-4eeb-822f-ed20d8ea782b",
        "colab": {
          "base_uri": "https://localhost:8080/"
        }
      }
    },
    {
      "cell_type": "code",
      "execution_count": 2,
      "source": [
        "init_Seed()"
      ],
      "outputs": [
        {
          "output_type": "stream",
          "name": "stdout",
          "text": [
            "GPU ready!\n"
          ]
        }
      ],
      "metadata": {}
    },
    {
      "cell_type": "code",
      "execution_count": 3,
      "source": [
        "class MLDataset(Dataset):\n",
        "    \"\"\" Dataset for loading and preprocessing the MoviesLen dataset. \"\"\"\n",
        "    def __init__(self, path, mode='train', target_only=False):\n",
        "        super().__init__()\n",
        "        self.mode = mode\n",
        "\n",
        "        # Read data into numpy arrays\n",
        "        data = np.loadtxt(path, dtype='long')\n",
        "\n",
        "        # Convert data into PyTorch tensors\n",
        "        self.data = torch.LongTensor(data[:, :2])\n",
        "        self.target = torch.FloatTensor(data[:, 2])\n",
        " \n",
        "\n",
        "        self.dim = self.data.shape[1]\n",
        "\n",
        "        print('Finished reading the {} set of MoviesLen Dataset ({} samples found, each dim = {})'\n",
        "              .format(mode, len(self.data), self.dim))\n",
        "    \n",
        "\n",
        "    def __getitem__(self, index):\n",
        "        # Returns one sample at a time\n",
        "        if self.mode in ['train', 'dev']:\n",
        "            # For training\n",
        "            return self.data[index], self.target[index]\n",
        "        else:\n",
        "            # For testing (no target)\n",
        "            return self.data[index]\n",
        "    \n",
        "\n",
        "    def __len__(self):\n",
        "        # Returns the size of the dataset\n",
        "        return len(self.data)"
      ],
      "outputs": [],
      "metadata": {}
    },
    {
      "cell_type": "code",
      "execution_count": 4,
      "source": [
        "class MF(nn.Module):\n",
        "    def __init__(self, n_users=1000, m_items=2000, n_factors=20):\n",
        "        super(MF, self).__init__()\n",
        "\n",
        "        self.U = torch.nn.Embedding(n_users, n_factors)\n",
        "        self.V = torch.nn.Embedding(m_items, n_factors)\n",
        "\n",
        "        self.U.weight.data.uniform_(-0.005, 0.005)\n",
        "        self.V.weight.data.uniform_(-0.005, 0.005)\n",
        "        \n",
        "        self.criterion = nn.MSELoss(reduction='sum')\n",
        "    \n",
        "    def forward(self, user, item):\n",
        "        # return (self.user_factors(user) * self.item_factors(item)).sum(1)\n",
        "        return torch.einsum('ij, ij -> i', [self.U(user), self.V(item)])\n",
        "    \n",
        "    def cal_loss(self, pred, target):\n",
        "        ''' Calculate loss '''\n",
        "        return self.criterion(pred, target)"
      ],
      "outputs": [],
      "metadata": {}
    },
    {
      "cell_type": "markdown",
      "source": [
        "## **DataLoader**\n",
        "\n",
        "A `DataLoader` loads data from a given `Dataset` into batches.\n"
      ],
      "metadata": {
        "id": "AlhTlkE7MDo3"
      }
    },
    {
      "cell_type": "code",
      "execution_count": 5,
      "source": [
        "def prep_dataloader(path, mode, batch_size, n_jobs=0, target_only=False):\n",
        "    ''' Generates a dataset, then is put into a dataloader. '''\n",
        "    dataset = MLDataset(path, mode=mode, target_only=target_only)  # Construct dataset\n",
        "    dataloader = DataLoader(dataset, batch_size,\n",
        "        shuffle=(mode == 'train'), drop_last=False,\n",
        "        num_workers=n_jobs, pin_memory=True)                            # Construct dataloader\n",
        "    return dataloader"
      ],
      "outputs": [],
      "metadata": {
        "id": "hlhLk5t6MBX3"
      }
    },
    {
      "cell_type": "markdown",
      "source": [
        "# **Train/Dev/Test**"
      ],
      "metadata": {
        "id": "DvFWVjZ5Nvga"
      }
    },
    {
      "cell_type": "code",
      "execution_count": 6,
      "source": [
        "# U = torch.rand(size=(1005, 20), requires_grad=True)\n",
        "# V = torch.rand(size=(2005, 20), requires_grad=True)\n",
        "# with torch.no_grad():\n",
        "#     U /= 100\n",
        "#     V /= 100"
      ],
      "outputs": [],
      "metadata": {}
    },
    {
      "cell_type": "markdown",
      "source": [
        "## **Training**"
      ],
      "metadata": {
        "id": "MAM8QecJOyqn"
      }
    },
    {
      "cell_type": "code",
      "execution_count": 7,
      "source": [
        "# def model(X):\n",
        "#     return torch.einsum('ij, ij -> i', [U[X[:, 0]], V[X[:, 1]]])\n",
        "\n",
        "# def squared_loss(y_hat, y):  #@save\n",
        "#     \"\"\"Squared loss.\"\"\"\n",
        "#     return (y_hat - y.reshape(y_hat.shape))**2 / 2\n",
        "\n",
        "# def objective(X, y):\n",
        "#     return squared_loss(model(X), y).sum() + (U[X[:, 0]].norm() ** 2 + V[X[:, 1]].norm() ** 2) * 0.01\n",
        "\n",
        "# def sgd(params, lr, batch_size):  #@save\n",
        "#     \"\"\"Minibatch stochastic gradient descent.\"\"\"\n",
        "#     with torch.no_grad():\n",
        "#         for param in params:\n",
        "#             param -= lr * param.grad\n",
        "#             param.grad.zero_()"
      ],
      "outputs": [],
      "metadata": {}
    },
    {
      "cell_type": "code",
      "execution_count": 8,
      "source": [
        "def train(tr_set, dv_set, model, config):\n",
        "    n_epochs = config['n_epochs']  # Maximum number of epochs\n",
        "    batch_size = config['batch_size']\n",
        "\n",
        "    # Setup optimizer\n",
        "    optimizer = getattr(torch.optim, config['optimizer'])(\n",
        "        model.parameters(), **config['optim_hparas'])\n",
        "\n",
        "    min_mse = 1000.\n",
        "    loss_record = {'train': [], 'dev': []} \n",
        "    early_stop_cnt = 0\n",
        "    epoch = 0\n",
        "\n",
        "    while epoch < n_epochs:\n",
        "        model.train()\n",
        "        for X, y in tr_set:\n",
        "            optimizer.zero_grad()    \n",
        "            X, y = X.to(device), y.to(device)\n",
        "            y_hat = model(X[:, 0], X[:, 1])\n",
        "            mse_loss = model.cal_loss(y_hat, y)\n",
        "            mse_loss.backward()\n",
        "            optimizer.step()\n",
        "            loss_record['train'].append(mse_loss.detach().cpu().item() / batch_size)\n",
        "        \n",
        "        epoch += 1\n",
        "        \n",
        "        print(\"train_loss: {:.4f}\".format(np.mean(loss_record['train'][-100:])))\n",
        "\n",
        "        dev_mse = dev(dv_set, model, device) / batch_size\n",
        "        if dev_mse < min_mse:\n",
        "            min_mse = dev_mse\n",
        "            early_stop_cnt = 0\n",
        "            print(\"Saving model (epoch = {:4d}  loss = {:.4f} )\".format(epoch, dev_mse))\n",
        "            torch.save(model.state_dict(), config['save_path'])\n",
        "        else:\n",
        "            early_stop_cnt += 1\n",
        "        \n",
        "        \n",
        "        loss_record['dev'].append(dev_mse)\n",
        "\n",
        "        if early_stop_cnt > config['early_stop']:\n",
        "            break\n",
        "\n",
        "    print(\"Finish training after {} epochs\".format(epoch))\n",
        "    return min_mse, loss_record"
      ],
      "outputs": [],
      "metadata": {}
    },
    {
      "cell_type": "code",
      "execution_count": 9,
      "source": [
        "# def train2():\n",
        "#     n_epochs = config['n_epochs']  # Maximum number of epochs\n",
        "\n",
        "#     loss = squared_loss\n",
        "        \n",
        "#     # Setup optimizer\n",
        "#     optimizer = getattr(torch.optim, config['optimizer'])(\n",
        "#         [U, V], **config['optim_hparas'])\n",
        "\n",
        "#     min_mse = 1000.\n",
        "#     loss_record = {'train': [], 'dev': []} \n",
        "#     early_stop_cnt = 0\n",
        "#     epoch = 0\n",
        "\n",
        "#     while epoch < n_epochs:\n",
        "\n",
        "#         for X, y in tr_set:\n",
        "#             optimizer.zero_grad()\n",
        "#             X, y = X.to(device), y.to(device)\n",
        "#             y_hat = model(X)\n",
        "#             mse_loss = loss(y_hat, y)\n",
        "#             mse_loss.sum().backward()\n",
        "#             optimizer.step()\n",
        "            \n",
        "#         epoch += 1\n",
        "        \n",
        "#         with torch.no_grad():\n",
        "#             train_l = loss(model(X), y)\n",
        "#             print(f'epoch {epoch + 1}, loss {float(train_l.mean()):f}')"
      ],
      "outputs": [],
      "metadata": {}
    },
    {
      "cell_type": "markdown",
      "source": [
        "## **Validation**"
      ],
      "metadata": {
        "id": "0hSd4Bn3O2PL"
      }
    },
    {
      "cell_type": "code",
      "execution_count": 10,
      "source": [
        "def dev(dv_set, model, device):\n",
        "    model.eval()                                # set model to evalutation mode\n",
        "    total_loss = 0\n",
        "    for X, y in dv_set:                         # iterate through the dataloader\n",
        "        X, y = X.to(device), y.to(device)       # move data to device (cpu/cuda)\n",
        "        with torch.no_grad():                   # disable gradient calculation\n",
        "            pred = model(X[:, 0], X[:, 1])                     # forward pass (compute output)\n",
        "            mse_loss = model.cal_loss(pred, y)  # compute loss\n",
        "        total_loss += mse_loss.detach().cpu().item() * len(X)  # accumulate loss\n",
        "    total_loss = total_loss / len(dv_set.dataset)              # compute averaged loss\n",
        "\n",
        "    return total_loss"
      ],
      "outputs": [],
      "metadata": {
        "id": "yrxrD3YsN3U2"
      }
    },
    {
      "cell_type": "code",
      "execution_count": null,
      "source": [],
      "outputs": [],
      "metadata": {}
    },
    {
      "cell_type": "markdown",
      "source": [
        "## **Testing**"
      ],
      "metadata": {
        "id": "g0pdrhQAO41L"
      }
    },
    {
      "cell_type": "code",
      "execution_count": 11,
      "source": [
        "def test(tt_set, model, device):\n",
        "    model.eval()                                # set model to evalutation mode\n",
        "    preds = []\n",
        "    for x in tt_set:                            # iterate through the dataloader\n",
        "        x = x.to(device)                        # move data to device (cpu/cuda)\n",
        "        with torch.no_grad():                   # disable gradient calculation\n",
        "            pred = model(x)                     # forward pass (compute output)\n",
        "            preds.append(pred.detach().cpu())   # collect prediction\n",
        "    preds = torch.cat(preds, dim=0).numpy()     # concatenate all predictions and convert to a numpy array\n",
        "    return preds"
      ],
      "outputs": [],
      "metadata": {
        "id": "aSBMRFlYN5tB"
      }
    },
    {
      "cell_type": "markdown",
      "source": [
        "# **Setup Hyper-parameters**\n",
        "\n",
        "`config` contains hyper-parameters for training and the path to save your model."
      ],
      "metadata": {
        "id": "SvckkF5dvf0j"
      }
    },
    {
      "cell_type": "code",
      "execution_count": 12,
      "source": [
        "device = get_device()                 # get the current available device ('cpu' or 'cuda')\n",
        "os.makedirs('models', exist_ok=True)  # The trained model will be saved to ./models/\n",
        "target_only = False                   # TODO: Using 40 states & 2 tested_positive features\n",
        "\n",
        "# TODO: How to tune these hyper-parameters to improve your model's performance?\n",
        "config = {\n",
        "    'n_epochs': 1000,              # maximum number of epochs\n",
        "    'batch_size': 10000,               # mini-batch size for dataloader\n",
        "    'optimizer': 'Adam',              # optimization algorithm (optimizer in torch.optim)\n",
        "    'optim_hparas': {                # hyper-parameters for the optimizer (depends on which optimizer you are using)\n",
        "        'lr': 0.005,                # learning rate\n",
        "        # 'weight_decay': 0.0001\n",
        "        # 'momentum': 0.9              # momentum for SGD\n",
        "    },\n",
        "    'early_stop': 60,               # early stopping epochs (the number epochs since your model's last improvement)\n",
        "    'save_path': 'models/model.pth'  # your model will be saved here\n",
        "}"
      ],
      "outputs": [],
      "metadata": {
        "id": "NPXpdumwPjE7"
      }
    },
    {
      "cell_type": "markdown",
      "source": [
        "# **Load data and model**"
      ],
      "metadata": {
        "id": "6j1eOV3TOH-j"
      }
    },
    {
      "cell_type": "code",
      "execution_count": 13,
      "source": [
        "tr_set = prep_dataloader('../data/ML100K/ML100K_copy1_train.txt', 'train', config['batch_size'], target_only=target_only)\n",
        "dv_set = prep_dataloader('../data/ML100K/ML100K_copy1_test.txt', 'dev', config['batch_size'], target_only=target_only)\n",
        "# tt_set = prep_dataloader(\"data/ML100K/ML100K_copy1_test.txt\", 'test', config['batch_size'], target_only=target_only)"
      ],
      "outputs": [
        {
          "output_type": "stream",
          "name": "stdout",
          "text": [
            "Finished reading the train set of MoviesLen Dataset (60000 samples found, each dim = 2)\n",
            "Finished reading the dev set of MoviesLen Dataset (20000 samples found, each dim = 2)\n"
          ]
        }
      ],
      "metadata": {}
    },
    {
      "cell_type": "code",
      "execution_count": 14,
      "source": [
        "model = MF().to(device) "
      ],
      "outputs": [],
      "metadata": {}
    },
    {
      "cell_type": "markdown",
      "source": [
        "# **Start Training!**"
      ],
      "metadata": {
        "id": "sX2B_zgSOPTJ"
      }
    },
    {
      "cell_type": "code",
      "execution_count": 15,
      "source": [
        "# model_loss, model_loss_record = train(tr_set, dv_set, model, config, device)"
      ],
      "outputs": [],
      "metadata": {
        "colab": {
          "base_uri": "https://localhost:8080/"
        },
        "id": "GrEbUxazQAAZ",
        "outputId": "2190df3d-28a1-4849-a9a8-5179cff3130d"
      }
    },
    {
      "cell_type": "code",
      "execution_count": 16,
      "source": [
        "%%time\n",
        "model_loss, model_loss_record = train(tr_set, dv_set, model, config)"
      ],
      "outputs": [
        {
          "output_type": "stream",
          "name": "stdout",
          "text": [
            "train_loss: 13.7341\n",
            "Saving model (epoch =    1  loss = 13.6949 )\n",
            "train_loss: 13.7331\n",
            "Saving model (epoch =    2  loss = 13.6905 )\n",
            "train_loss: 13.7302\n",
            "Saving model (epoch =    3  loss = 13.6777 )\n",
            "train_loss: 13.7242\n",
            "Saving model (epoch =    4  loss = 13.6530 )\n",
            "train_loss: 13.7145\n",
            "Saving model (epoch =    5  loss = 13.6133 )\n",
            "train_loss: 13.7001\n",
            "Saving model (epoch =    6  loss = 13.5562 )\n",
            "train_loss: 13.6804\n",
            "Saving model (epoch =    7  loss = 13.4795 )\n",
            "train_loss: 13.6549\n",
            "Saving model (epoch =    8  loss = 13.3814 )\n",
            "train_loss: 13.6231\n",
            "Saving model (epoch =    9  loss = 13.2610 )\n",
            "train_loss: 13.5845\n",
            "Saving model (epoch =   10  loss = 13.1174 )\n",
            "train_loss: 13.5389\n",
            "Saving model (epoch =   11  loss = 12.9504 )\n",
            "train_loss: 13.4861\n",
            "Saving model (epoch =   12  loss = 12.7601 )\n",
            "train_loss: 13.4260\n",
            "Saving model (epoch =   13  loss = 12.5469 )\n",
            "train_loss: 13.3584\n",
            "Saving model (epoch =   14  loss = 12.3115 )\n",
            "train_loss: 13.2835\n",
            "Saving model (epoch =   15  loss = 12.0548 )\n",
            "train_loss: 13.2013\n",
            "Saving model (epoch =   16  loss = 11.7781 )\n",
            "train_loss: 13.0995\n",
            "Saving model (epoch =   17  loss = 11.4824 )\n",
            "train_loss: 12.9569\n",
            "Saving model (epoch =   18  loss = 11.1692 )\n",
            "train_loss: 12.7998\n",
            "Saving model (epoch =   19  loss = 10.8402 )\n",
            "train_loss: 12.6185\n",
            "Saving model (epoch =   20  loss = 10.4969 )\n",
            "train_loss: 12.4169\n",
            "Saving model (epoch =   21  loss = 10.1410 )\n",
            "train_loss: 12.1985\n",
            "Saving model (epoch =   22  loss = 9.7746 )\n",
            "train_loss: 11.9604\n",
            "Saving model (epoch =   23  loss = 9.3994 )\n",
            "train_loss: 11.7018\n",
            "Saving model (epoch =   24  loss = 9.0174 )\n",
            "train_loss: 11.4267\n",
            "Saving model (epoch =   25  loss = 8.6303 )\n",
            "train_loss: 11.1363\n",
            "Saving model (epoch =   26  loss = 8.2403 )\n",
            "train_loss: 10.8319\n",
            "Saving model (epoch =   27  loss = 7.8494 )\n",
            "train_loss: 10.5116\n",
            "Saving model (epoch =   28  loss = 7.4594 )\n",
            "train_loss: 10.1779\n",
            "Saving model (epoch =   29  loss = 7.0724 )\n",
            "train_loss: 9.8341\n",
            "Saving model (epoch =   30  loss = 6.6896 )\n",
            "train_loss: 9.4812\n",
            "Saving model (epoch =   31  loss = 6.3131 )\n",
            "train_loss: 9.1229\n",
            "Saving model (epoch =   32  loss = 5.9449 )\n",
            "train_loss: 8.7567\n",
            "Saving model (epoch =   33  loss = 5.5860 )\n",
            "train_loss: 8.3879\n",
            "Saving model (epoch =   34  loss = 5.2381 )\n",
            "train_loss: 8.0171\n",
            "Saving model (epoch =   35  loss = 4.9024 )\n",
            "train_loss: 7.6435\n",
            "Saving model (epoch =   36  loss = 4.5802 )\n",
            "train_loss: 7.2724\n",
            "Saving model (epoch =   37  loss = 4.2722 )\n",
            "train_loss: 6.9058\n",
            "Saving model (epoch =   38  loss = 3.9793 )\n",
            "train_loss: 6.5430\n",
            "Saving model (epoch =   39  loss = 3.7020 )\n",
            "train_loss: 6.1863\n",
            "Saving model (epoch =   40  loss = 3.4412 )\n",
            "train_loss: 5.8375\n",
            "Saving model (epoch =   41  loss = 3.1969 )\n",
            "train_loss: 5.4969\n",
            "Saving model (epoch =   42  loss = 2.9691 )\n",
            "train_loss: 5.1679\n",
            "Saving model (epoch =   43  loss = 2.7578 )\n",
            "train_loss: 4.8485\n",
            "Saving model (epoch =   44  loss = 2.5628 )\n",
            "train_loss: 4.5438\n",
            "Saving model (epoch =   45  loss = 2.3837 )\n",
            "train_loss: 4.2483\n",
            "Saving model (epoch =   46  loss = 2.2206 )\n",
            "train_loss: 3.9684\n",
            "Saving model (epoch =   47  loss = 2.0723 )\n",
            "train_loss: 3.7016\n",
            "Saving model (epoch =   48  loss = 1.9382 )\n",
            "train_loss: 3.4509\n",
            "Saving model (epoch =   49  loss = 1.8176 )\n",
            "train_loss: 3.2132\n",
            "Saving model (epoch =   50  loss = 1.7095 )\n",
            "train_loss: 2.9919\n",
            "Saving model (epoch =   51  loss = 1.6132 )\n",
            "train_loss: 2.7849\n",
            "Saving model (epoch =   52  loss = 1.5277 )\n",
            "train_loss: 2.5931\n",
            "Saving model (epoch =   53  loss = 1.4521 )\n",
            "train_loss: 2.4152\n",
            "Saving model (epoch =   54  loss = 1.3857 )\n",
            "train_loss: 2.2509\n",
            "Saving model (epoch =   55  loss = 1.3273 )\n",
            "train_loss: 2.1009\n",
            "Saving model (epoch =   56  loss = 1.2764 )\n",
            "train_loss: 1.9636\n",
            "Saving model (epoch =   57  loss = 1.2320 )\n",
            "train_loss: 1.8390\n",
            "Saving model (epoch =   58  loss = 1.1934 )\n",
            "train_loss: 1.7255\n",
            "Saving model (epoch =   59  loss = 1.1599 )\n",
            "train_loss: 1.6237\n",
            "Saving model (epoch =   60  loss = 1.1310 )\n",
            "train_loss: 1.5315\n",
            "Saving model (epoch =   61  loss = 1.1059 )\n",
            "train_loss: 1.4501\n",
            "Saving model (epoch =   62  loss = 1.0844 )\n",
            "train_loss: 1.3770\n",
            "Saving model (epoch =   63  loss = 1.0658 )\n",
            "train_loss: 1.3120\n",
            "Saving model (epoch =   64  loss = 1.0498 )\n",
            "train_loss: 1.2544\n",
            "Saving model (epoch =   65  loss = 1.0359 )\n",
            "train_loss: 1.2035\n",
            "Saving model (epoch =   66  loss = 1.0240 )\n",
            "train_loss: 1.1584\n",
            "Saving model (epoch =   67  loss = 1.0137 )\n",
            "train_loss: 1.1193\n",
            "Saving model (epoch =   68  loss = 1.0048 )\n",
            "train_loss: 1.0846\n",
            "Saving model (epoch =   69  loss = 0.9972 )\n",
            "train_loss: 1.0543\n",
            "Saving model (epoch =   70  loss = 0.9905 )\n",
            "train_loss: 1.0277\n",
            "Saving model (epoch =   71  loss = 0.9847 )\n",
            "train_loss: 1.0046\n",
            "Saving model (epoch =   72  loss = 0.9797 )\n",
            "train_loss: 0.9847\n",
            "Saving model (epoch =   73  loss = 0.9753 )\n",
            "train_loss: 0.9669\n",
            "Saving model (epoch =   74  loss = 0.9714 )\n",
            "train_loss: 0.9513\n",
            "Saving model (epoch =   75  loss = 0.9681 )\n",
            "train_loss: 0.9377\n",
            "Saving model (epoch =   76  loss = 0.9651 )\n",
            "train_loss: 0.9259\n",
            "Saving model (epoch =   77  loss = 0.9625 )\n",
            "train_loss: 0.9158\n",
            "Saving model (epoch =   78  loss = 0.9602 )\n",
            "train_loss: 0.9063\n",
            "Saving model (epoch =   79  loss = 0.9582 )\n",
            "train_loss: 0.8987\n",
            "Saving model (epoch =   80  loss = 0.9564 )\n",
            "train_loss: 0.8917\n",
            "Saving model (epoch =   81  loss = 0.9547 )\n",
            "train_loss: 0.8858\n",
            "Saving model (epoch =   82  loss = 0.9533 )\n",
            "train_loss: 0.8799\n",
            "Saving model (epoch =   83  loss = 0.9520 )\n",
            "train_loss: 0.8753\n",
            "Saving model (epoch =   84  loss = 0.9509 )\n",
            "train_loss: 0.8709\n",
            "Saving model (epoch =   85  loss = 0.9498 )\n",
            "train_loss: 0.8670\n",
            "Saving model (epoch =   86  loss = 0.9489 )\n",
            "train_loss: 0.8635\n",
            "Saving model (epoch =   87  loss = 0.9481 )\n",
            "train_loss: 0.8603\n",
            "Saving model (epoch =   88  loss = 0.9474 )\n",
            "train_loss: 0.8573\n",
            "Saving model (epoch =   89  loss = 0.9467 )\n",
            "train_loss: 0.8547\n",
            "Saving model (epoch =   90  loss = 0.9461 )\n",
            "train_loss: 0.8526\n",
            "Saving model (epoch =   91  loss = 0.9455 )\n",
            "train_loss: 0.8507\n",
            "Saving model (epoch =   92  loss = 0.9450 )\n",
            "train_loss: 0.8486\n",
            "Saving model (epoch =   93  loss = 0.9445 )\n",
            "train_loss: 0.8468\n",
            "Saving model (epoch =   94  loss = 0.9441 )\n",
            "train_loss: 0.8452\n",
            "Saving model (epoch =   95  loss = 0.9437 )\n",
            "train_loss: 0.8438\n",
            "Saving model (epoch =   96  loss = 0.9434 )\n",
            "train_loss: 0.8422\n",
            "Saving model (epoch =   97  loss = 0.9431 )\n",
            "train_loss: 0.8413\n",
            "Saving model (epoch =   98  loss = 0.9428 )\n",
            "train_loss: 0.8402\n",
            "Saving model (epoch =   99  loss = 0.9426 )\n",
            "train_loss: 0.8389\n",
            "Saving model (epoch =  100  loss = 0.9423 )\n",
            "train_loss: 0.8382\n",
            "Saving model (epoch =  101  loss = 0.9421 )\n",
            "train_loss: 0.8370\n",
            "Saving model (epoch =  102  loss = 0.9419 )\n",
            "train_loss: 0.8362\n",
            "Saving model (epoch =  103  loss = 0.9418 )\n",
            "train_loss: 0.8352\n",
            "Saving model (epoch =  104  loss = 0.9416 )\n",
            "train_loss: 0.8347\n",
            "Saving model (epoch =  105  loss = 0.9414 )\n",
            "train_loss: 0.8339\n",
            "Saving model (epoch =  106  loss = 0.9413 )\n",
            "train_loss: 0.8332\n",
            "Saving model (epoch =  107  loss = 0.9411 )\n",
            "train_loss: 0.8327\n",
            "Saving model (epoch =  108  loss = 0.9410 )\n",
            "train_loss: 0.8320\n",
            "Saving model (epoch =  109  loss = 0.9409 )\n",
            "train_loss: 0.8316\n",
            "Saving model (epoch =  110  loss = 0.9408 )\n",
            "train_loss: 0.8311\n",
            "Saving model (epoch =  111  loss = 0.9407 )\n",
            "train_loss: 0.8306\n",
            "Saving model (epoch =  112  loss = 0.9407 )\n",
            "train_loss: 0.8301\n",
            "Saving model (epoch =  113  loss = 0.9406 )\n",
            "train_loss: 0.8297\n",
            "Saving model (epoch =  114  loss = 0.9406 )\n",
            "train_loss: 0.8294\n",
            "Saving model (epoch =  115  loss = 0.9406 )\n",
            "train_loss: 0.8288\n",
            "Saving model (epoch =  116  loss = 0.9405 )\n",
            "train_loss: 0.8284\n",
            "Saving model (epoch =  117  loss = 0.9404 )\n",
            "train_loss: 0.8283\n",
            "Saving model (epoch =  118  loss = 0.9404 )\n",
            "train_loss: 0.8281\n",
            "Saving model (epoch =  119  loss = 0.9404 )\n",
            "train_loss: 0.8276\n",
            "Saving model (epoch =  120  loss = 0.9403 )\n",
            "train_loss: 0.8274\n",
            "Saving model (epoch =  121  loss = 0.9403 )\n",
            "train_loss: 0.8273\n",
            "Saving model (epoch =  122  loss = 0.9402 )\n",
            "train_loss: 0.8266\n",
            "Saving model (epoch =  123  loss = 0.9402 )\n",
            "train_loss: 0.8268\n",
            "Saving model (epoch =  124  loss = 0.9402 )\n",
            "train_loss: 0.8263\n",
            "Saving model (epoch =  125  loss = 0.9401 )\n",
            "train_loss: 0.8264\n",
            "train_loss: 0.8263\n",
            "train_loss: 0.8261\n",
            "train_loss: 0.8256\n",
            "train_loss: 0.8251\n",
            "train_loss: 0.8252\n",
            "train_loss: 0.8252\n",
            "train_loss: 0.8248\n",
            "train_loss: 0.8248\n",
            "train_loss: 0.8248\n",
            "train_loss: 0.8245\n",
            "train_loss: 0.8243\n",
            "train_loss: 0.8242\n",
            "train_loss: 0.8242\n",
            "train_loss: 0.8239\n",
            "train_loss: 0.8240\n",
            "train_loss: 0.8239\n",
            "train_loss: 0.8237\n",
            "train_loss: 0.8236\n",
            "train_loss: 0.8235\n",
            "train_loss: 0.8238\n",
            "train_loss: 0.8235\n",
            "train_loss: 0.8234\n",
            "train_loss: 0.8232\n",
            "train_loss: 0.8235\n",
            "train_loss: 0.8231\n",
            "train_loss: 0.8230\n",
            "train_loss: 0.8229\n",
            "train_loss: 0.8230\n",
            "train_loss: 0.8229\n",
            "train_loss: 0.8228\n",
            "train_loss: 0.8228\n",
            "train_loss: 0.8230\n",
            "train_loss: 0.8225\n",
            "train_loss: 0.8230\n",
            "train_loss: 0.8226\n",
            "train_loss: 0.8222\n",
            "train_loss: 0.8224\n",
            "train_loss: 0.8224\n",
            "train_loss: 0.8227\n",
            "train_loss: 0.8222\n",
            "train_loss: 0.8222\n",
            "train_loss: 0.8224\n",
            "train_loss: 0.8221\n",
            "train_loss: 0.8223\n",
            "train_loss: 0.8223\n",
            "train_loss: 0.8222\n",
            "train_loss: 0.8222\n",
            "train_loss: 0.8220\n",
            "train_loss: 0.8221\n",
            "train_loss: 0.8223\n",
            "train_loss: 0.8218\n",
            "train_loss: 0.8217\n",
            "train_loss: 0.8219\n",
            "train_loss: 0.8219\n",
            "train_loss: 0.8219\n",
            "train_loss: 0.8218\n",
            "train_loss: 0.8218\n",
            "train_loss: 0.8220\n",
            "train_loss: 0.8218\n",
            "train_loss: 0.8220\n",
            "Finish training after 186 epochs\n",
            "CPU times: user 2min 38s, sys: 351 ms, total: 2min 38s\n",
            "Wall time: 1min 14s\n"
          ]
        }
      ],
      "metadata": {}
    },
    {
      "cell_type": "code",
      "execution_count": 17,
      "source": [
        "# train2()"
      ],
      "outputs": [],
      "metadata": {}
    },
    {
      "cell_type": "code",
      "execution_count": 18,
      "source": [
        "plot_learning_curve(model_loss_record, title='MF model')"
      ],
      "outputs": [
        {
          "output_type": "display_data",
          "data": {
            "text/plain": [
              "<Figure size 432x288 with 1 Axes>"
            ],
            "image/png": "[encoded data removed]"
          },
          "metadata": {
            "needs_background": "light"
          }
        }
      ],
      "metadata": {
        "colab": {
          "base_uri": "https://localhost:8080/",
          "height": 295
        },
        "id": "hsNO9nnXQBvP",
        "outputId": "01787b1a-86eb-4560-81ad-62766a56b2b6"
      }
    },
    {
      "cell_type": "code",
      "execution_count": 19,
      "source": [
        "np.sqrt(model_loss)"
      ],
      "outputs": [
        {
          "output_type": "execute_result",
          "data": {
            "text/plain": [
              "0.969582354112455"
            ]
          },
          "metadata": {},
          "execution_count": 19
        }
      ],
      "metadata": {}
    },
    {
      "cell_type": "code",
      "execution_count": 20,
      "source": [
        "np.sqrt(model_loss_record['dev'][-1])"
      ],
      "outputs": [
        {
          "output_type": "execute_result",
          "data": {
            "text/plain": [
              "0.9699897812767153"
            ]
          },
          "metadata": {},
          "execution_count": 20
        }
      ],
      "metadata": {}
    },
    {
      "cell_type": "code",
      "execution_count": 21,
      "source": [
        "# del model\n",
        "# model = MF().to(device)\n",
        "# ckpt = torch.load(config['save_path'], map_location='cpu')  # Load your best model\n",
        "# model.load_state_dict(ckpt)\n",
        "# # plot_pred(dv_set, model, device)  # Show prediction on the validation set\n",
        "# dev(dv_set, model, device)"
      ],
      "outputs": [],
      "metadata": {
        "colab": {
          "base_uri": "https://localhost:8080/",
          "height": 350
        },
        "id": "3iZTVn5WQFpX",
        "outputId": "c2e65627-13cd-46f9-e51b-5973eb26d865"
      }
    },
    {
      "cell_type": "markdown",
      "source": [
        "# **Testing**\n",
        "The predictions of your model on testing set will be stored at `pred.csv`."
      ],
      "metadata": {
        "id": "aQikz3IPiyPf"
      }
    },
    {
      "cell_type": "code",
      "execution_count": 22,
      "source": [
        "# def save_pred(preds, file):\n",
        "#     ''' Save predictions to specified file '''\n",
        "#     print('Saving results to {}'.format(file))\n",
        "#     with open(file, 'w') as fp:\n",
        "#         writer = csv.writer(fp)\n",
        "#         writer.writerow(['id', 'tested_positive'])\n",
        "#         for i, p in enumerate(preds):\n",
        "#             writer.writerow([i, p])\n",
        "\n",
        "# preds = test(tt_set, model, device)  # predict COVID-19 cases with your model\n",
        "# save_pred(preds, 'pred.csv')         # save prediction file to pred.csv"
      ],
      "outputs": [],
      "metadata": {
        "colab": {
          "base_uri": "https://localhost:8080/"
        },
        "id": "O8cTuQjQQOon",
        "outputId": "30dfbdf5-3b47-4bec-a993-e306f49f47a5"
      }
    },
    {
      "cell_type": "markdown",
      "source": [
        "# **Hints**\n",
        "\n",
        "## **Simple Baseline**\n",
        "* Run sample code\n",
        "\n",
        "## **Medium Baseline**\n",
        "* Feature selection: 40 states + 2 `tested_positive` (`TODO` in dataset)\n",
        "\n",
        "## **Strong Baseline**\n",
        "* Feature selection (what other features are useful?)\n",
        "* DNN architecture (layers? dimension? activation function?)\n",
        "* Training (mini-batch? optimizer? learning rate?)\n",
        "* L2 regularization\n",
        "* There are some mistakes in the sample code, can you find them?"
      ],
      "metadata": {
        "id": "nfrVxqJanGpE"
      }
    },
    {
      "cell_type": "markdown",
      "source": [
        "# **Reference**\n",
        "This code is completely written by Heng-Jui Chang @ NTUEE.  \n",
        "Copying or reusing this code is required to specify the original author. \n",
        "\n",
        "E.g.  \n",
        "Source: Heng-Jui Chang @ NTUEE (https://github.com/ga642381/ML2021-Spring/blob/main/HW01/HW01.ipynb)\n"
      ],
      "metadata": {
        "id": "9tmCwXgpot3t"
      }
    }
  ]
}