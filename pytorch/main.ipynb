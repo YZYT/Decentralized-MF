{
  "nbformat": 4,
  "nbformat_minor": 2,
  "metadata": {
    "colab": {
      "name": "ML2021Spring - HW1.ipynb",
      "provenance": [],
      "collapsed_sections": []
    },
    "kernelspec": {
      "name": "python3",
      "display_name": "Python 3.8.10 64-bit ('py38': conda)"
    },
    "accelerator": "GPU",
    "language_info": {
      "name": "python",
      "version": "3.8.10",
      "mimetype": "text/x-python",
      "codemirror_mode": {
        "name": "ipython",
        "version": 3
      },
      "pygments_lexer": "ipython3",
      "nbconvert_exporter": "python",
      "file_extension": ".py"
    },
    "interpreter": {
      "hash": "b1d710d4a2dd0e836743a9708dcf2dd87750cb6db75a03dbc0a1931aaec4e6cb"
    }
  },
  "cells": [
    {
      "cell_type": "code",
      "execution_count": 1,
      "source": [
        "# PyTorch\n",
        "import torch\n",
        "import torch.nn as nn\n",
        "from torch.utils.data import Dataset, DataLoader\n",
        "\n",
        "# For data preprocess\n",
        "import numpy as np\n",
        "import csv\n",
        "import os\n",
        "\n",
        "# For plotting\n",
        "import matplotlib.pyplot as plt\n",
        "from matplotlib.pyplot import figure\n",
        "from utils.mylib import *\n",
        "from d2l import torch as d2l"
      ],
      "outputs": [],
      "metadata": {
        "id": "k-onQd4JNA5H",
        "outputId": "0317f255-2dd4-4eeb-822f-ed20d8ea782b",
        "colab": {
          "base_uri": "https://localhost:8080/"
        }
      }
    },
    {
      "cell_type": "code",
      "execution_count": 2,
      "source": [
        "init_Seed()"
      ],
      "outputs": [
        {
          "output_type": "stream",
          "name": "stdout",
          "text": [
            "GPU ready!\n"
          ]
        }
      ],
      "metadata": {}
    },
    {
      "cell_type": "code",
      "execution_count": 3,
      "source": [
        "class MLDataset(Dataset):\n",
        "    \"\"\" Dataset for loading and preprocessing the MoviesLen dataset. \"\"\"\n",
        "    def __init__(self, path, mode='train', target_only=False):\n",
        "        super().__init__()\n",
        "        self.mode = mode\n",
        "\n",
        "        # Read data into numpy arrays\n",
        "        data = np.loadtxt(path, dtype='long')\n",
        "\n",
        "        # Convert data into PyTorch tensors\n",
        "        self.data = torch.LongTensor(data[:, :2])\n",
        "        self.target = torch.FloatTensor(data[:, 2])\n",
        " \n",
        "\n",
        "        self.dim = self.data.shape[1]\n",
        "\n",
        "        print('Finished reading the {} set of MoviesLen Dataset ({} samples found, each dim = {})'\n",
        "              .format(mode, len(self.data), self.dim))\n",
        "    \n",
        "\n",
        "    def __getitem__(self, index):\n",
        "        # Returns one sample at a time\n",
        "        if self.mode in ['train', 'dev']:\n",
        "            # For training\n",
        "            return self.data[index], self.target[index]\n",
        "        else:\n",
        "            # For testing (no target)\n",
        "            return self.data[index]\n",
        "    \n",
        "\n",
        "    def __len__(self):\n",
        "        # Returns the size of the dataset\n",
        "        return len(self.data)"
      ],
      "outputs": [],
      "metadata": {}
    },
    {
      "cell_type": "code",
      "execution_count": 4,
      "source": [
        "class MF(nn.Module):\n",
        "    def __init__(self, n_users=1000, m_items=2000, n_factors=20):\n",
        "        super(MF, self).__init__()\n",
        "\n",
        "        self.U = torch.nn.Embedding(n_users, n_factors)\n",
        "        self.V = torch.nn.Embedding(m_items, n_factors)\n",
        "\n",
        "        self.U.weight.data.uniform_(-0.005, 0.005)\n",
        "        self.V.weight.data.uniform_(-0.005, 0.005)\n",
        "        self.criterion = nn.MSELoss(reduction='mean')\n",
        "    \n",
        "    def forward(self, user, item):\n",
        "        # return (self.user_factors(user) * self.item_factors(item)).sum(1)\n",
        "        return torch.einsum('ij, ij -> i', [self.U(user), self.V(item)])\n",
        "    \n",
        "    def cal_loss(self, pred, target):\n",
        "        ''' Calculate loss '''\n",
        "        return self.criterion(pred, target)"
      ],
      "outputs": [],
      "metadata": {}
    },
    {
      "cell_type": "markdown",
      "source": [
        "## **DataLoader**\n",
        "\n",
        "A `DataLoader` loads data from a given `Dataset` into batches.\n"
      ],
      "metadata": {
        "id": "AlhTlkE7MDo3"
      }
    },
    {
      "cell_type": "code",
      "execution_count": 5,
      "source": [
        "def prep_dataloader(path, mode, batch_size, n_jobs=0, target_only=False):\n",
        "    ''' Generates a dataset, then is put into a dataloader. '''\n",
        "    dataset = MLDataset(path, mode=mode, target_only=target_only)  # Construct dataset\n",
        "    dataloader = DataLoader(dataset, batch_size,\n",
        "        shuffle=(mode == 'train'), drop_last=False,\n",
        "        num_workers=n_jobs, pin_memory=True)                            # Construct dataloader\n",
        "    return dataloader"
      ],
      "outputs": [],
      "metadata": {
        "id": "hlhLk5t6MBX3"
      }
    },
    {
      "cell_type": "markdown",
      "source": [
        "# **Train/Dev/Test**"
      ],
      "metadata": {
        "id": "DvFWVjZ5Nvga"
      }
    },
    {
      "cell_type": "code",
      "execution_count": 6,
      "source": [
        "# U = torch.rand(size=(1005, 20), requires_grad=True)\n",
        "# V = torch.rand(size=(2005, 20), requires_grad=True)\n",
        "# with torch.no_grad():\n",
        "#     U /= 100\n",
        "#     V /= 100"
      ],
      "outputs": [],
      "metadata": {}
    },
    {
      "cell_type": "markdown",
      "source": [
        "## **Training**"
      ],
      "metadata": {
        "id": "MAM8QecJOyqn"
      }
    },
    {
      "cell_type": "code",
      "execution_count": 7,
      "source": [
        "# def model(X):\n",
        "#     return torch.einsum('ij, ij -> i', [U[X[:, 0]], V[X[:, 1]]])\n",
        "\n",
        "# def squared_loss(y_hat, y):  #@save\n",
        "#     \"\"\"Squared loss.\"\"\"\n",
        "#     return (y_hat - y.reshape(y_hat.shape))**2 / 2\n",
        "\n",
        "# def objective(X, y):\n",
        "#     return squared_loss(model(X), y).sum() + (U[X[:, 0]].norm() ** 2 + V[X[:, 1]].norm() ** 2) * 0.01\n",
        "\n",
        "# def sgd(params, lr, batch_size):  #@save\n",
        "#     \"\"\"Minibatch stochastic gradient descent.\"\"\"\n",
        "#     with torch.no_grad():\n",
        "#         for param in params:\n",
        "#             param -= lr * param.grad\n",
        "#             param.grad.zero_()"
      ],
      "outputs": [],
      "metadata": {}
    },
    {
      "cell_type": "code",
      "execution_count": 8,
      "source": [
        "def train(tr_set, dv_set, model, config):\n",
        "    n_epochs = config['n_epochs']  # Maximum number of epochs\n",
        "    \n",
        "    # Setup optimizer\n",
        "    optimizer = getattr(torch.optim, config['optimizer'])(\n",
        "        model.parameters(), **config['optim_hparas'])\n",
        "\n",
        "    min_mse = 1000.\n",
        "    loss_record = {'train': [], 'dev': []} \n",
        "    early_stop_cnt = 0\n",
        "    epoch = 0\n",
        "\n",
        "    while epoch < n_epochs:\n",
        "        model.train()\n",
        "        for X, y in tr_set:\n",
        "            optimizer.zero_grad()    \n",
        "            X, y = X.to(device), y.to(device)\n",
        "            y_hat = model(X[:, 0], X[:, 1])\n",
        "            mse_loss = model.cal_loss(y_hat, y)\n",
        "            mse_loss.backward()\n",
        "            optimizer.step()\n",
        "            loss_record['train'].append(mse_loss.detach().cpu().item())\n",
        "        \n",
        "        epoch += 1\n",
        "        \n",
        "        print(\"train_loss: {:.4f}\".format(np.mean(loss_record['train'][-100:])))\n",
        "\n",
        "        dev_mse = dev(dv_set, model, device)\n",
        "        if dev_mse < min_mse:\n",
        "            min_mse = dev_mse\n",
        "            early_stop_cnt = 0\n",
        "            print(\"Saving model (epoch = {:4d}  loss = {:.4f} )\".format(epoch, dev_mse))\n",
        "            torch.save(model.state_dict(), config['save_path'])\n",
        "        else:\n",
        "            early_stop_cnt += 1\n",
        "        \n",
        "        \n",
        "        loss_record['dev'].append(dev_mse)\n",
        "\n",
        "        if early_stop_cnt > config['early_stop']:\n",
        "            break\n",
        "\n",
        "    print(\"Finish training after {} epochs\".format(epoch))\n",
        "    return min_mse, loss_record"
      ],
      "outputs": [],
      "metadata": {}
    },
    {
      "cell_type": "code",
      "execution_count": 9,
      "source": [
        "# def train2():\n",
        "#     n_epochs = config['n_epochs']  # Maximum number of epochs\n",
        "\n",
        "#     loss = squared_loss\n",
        "        \n",
        "#     # Setup optimizer\n",
        "#     optimizer = getattr(torch.optim, config['optimizer'])(\n",
        "#         [U, V], **config['optim_hparas'])\n",
        "\n",
        "#     min_mse = 1000.\n",
        "#     loss_record = {'train': [], 'dev': []} \n",
        "#     early_stop_cnt = 0\n",
        "#     epoch = 0\n",
        "\n",
        "#     while epoch < n_epochs:\n",
        "\n",
        "#         for X, y in tr_set:\n",
        "#             optimizer.zero_grad()\n",
        "#             X, y = X.to(device), y.to(device)\n",
        "#             y_hat = model(X)\n",
        "#             mse_loss = loss(y_hat, y)\n",
        "#             mse_loss.sum().backward()\n",
        "#             optimizer.step()\n",
        "            \n",
        "#         epoch += 1\n",
        "        \n",
        "#         with torch.no_grad():\n",
        "#             train_l = loss(model(X), y)\n",
        "#             print(f'epoch {epoch + 1}, loss {float(train_l.mean()):f}')"
      ],
      "outputs": [],
      "metadata": {}
    },
    {
      "cell_type": "markdown",
      "source": [
        "## **Validation**"
      ],
      "metadata": {
        "id": "0hSd4Bn3O2PL"
      }
    },
    {
      "cell_type": "code",
      "execution_count": 10,
      "source": [
        "def dev(dv_set, model, device):\n",
        "    model.eval()                                # set model to evalutation mode\n",
        "    total_loss = 0\n",
        "    for X, y in dv_set:                         # iterate through the dataloader\n",
        "        X, y = X.to(device), y.to(device)       # move data to device (cpu/cuda)\n",
        "        with torch.no_grad():                   # disable gradient calculation\n",
        "            pred = model(X[:, 0], X[:, 1])                     # forward pass (compute output)\n",
        "            mse_loss = model.cal_loss(pred, y)  # compute loss\n",
        "        total_loss += mse_loss.detach().cpu().item() * len(X)  # accumulate loss\n",
        "    total_loss = total_loss / len(dv_set.dataset)              # compute averaged loss\n",
        "\n",
        "    return total_loss"
      ],
      "outputs": [],
      "metadata": {
        "id": "yrxrD3YsN3U2"
      }
    },
    {
      "cell_type": "markdown",
      "source": [
        "## **Testing**"
      ],
      "metadata": {
        "id": "g0pdrhQAO41L"
      }
    },
    {
      "cell_type": "code",
      "execution_count": 11,
      "source": [
        "def test(tt_set, model, device):\n",
        "    model.eval()                                # set model to evalutation mode\n",
        "    preds = []\n",
        "    for x in tt_set:                            # iterate through the dataloader\n",
        "        x = x.to(device)                        # move data to device (cpu/cuda)\n",
        "        with torch.no_grad():                   # disable gradient calculation\n",
        "            pred = model(x)                     # forward pass (compute output)\n",
        "            preds.append(pred.detach().cpu())   # collect prediction\n",
        "    preds = torch.cat(preds, dim=0).numpy()     # concatenate all predictions and convert to a numpy array\n",
        "    return preds"
      ],
      "outputs": [],
      "metadata": {
        "id": "aSBMRFlYN5tB"
      }
    },
    {
      "cell_type": "markdown",
      "source": [
        "# **Setup Hyper-parameters**\n",
        "\n",
        "`config` contains hyper-parameters for training and the path to save your model."
      ],
      "metadata": {
        "id": "SvckkF5dvf0j"
      }
    },
    {
      "cell_type": "code",
      "execution_count": 12,
      "source": [
        "device = get_device()                 # get the current available device ('cpu' or 'cuda')\n",
        "os.makedirs('models', exist_ok=True)  # The trained model will be saved to ./models/\n",
        "target_only = False                   # TODO: Using 40 states & 2 tested_positive features\n",
        "\n",
        "# TODO: How to tune these hyper-parameters to improve your model's performance?\n",
        "config = {\n",
        "    'n_epochs': 2000,              # maximum number of epochs\n",
        "    'batch_size': 1000,               # mini-batch size for dataloader\n",
        "    'optimizer': 'Adam',              # optimization algorithm (optimizer in torch.optim)\n",
        "    'optim_hparas': {                # hyper-parameters for the optimizer (depends on which optimizer you are using)\n",
        "        # 'lr': 1,                 # learning rate of SGD\n",
        "        'weight_decay': 0.0001\n",
        "        # 'momentum': 0.9              # momentum for SGD\n",
        "    },\n",
        "    'early_stop': 30,               # early stopping epochs (the number epochs since your model's last improvement)\n",
        "    'save_path': 'models/model.pth'  # your model will be saved here\n",
        "}"
      ],
      "outputs": [],
      "metadata": {
        "id": "NPXpdumwPjE7"
      }
    },
    {
      "cell_type": "markdown",
      "source": [
        "# **Load data and model**"
      ],
      "metadata": {
        "id": "6j1eOV3TOH-j"
      }
    },
    {
      "cell_type": "code",
      "execution_count": 13,
      "source": [
        "tr_set = prep_dataloader('../data/ML100K/ML100K_copy1_train.txt', 'train', config['batch_size'], target_only=target_only)\n",
        "dv_set = prep_dataloader('../data/ML100K/ML100K_copy1_test.txt', 'dev', config['batch_size'], target_only=target_only)\n",
        "# tt_set = prep_dataloader(\"data/ML100K/ML100K_copy1_test.txt\", 'test', config['batch_size'], target_only=target_only)"
      ],
      "outputs": [
        {
          "output_type": "stream",
          "name": "stdout",
          "text": [
            "Finished reading the train set of MoviesLen Dataset (60000 samples found, each dim = 2)\n",
            "Finished reading the dev set of MoviesLen Dataset (20000 samples found, each dim = 2)\n"
          ]
        }
      ],
      "metadata": {}
    },
    {
      "cell_type": "code",
      "execution_count": 14,
      "source": [
        "model = MF().to(device) "
      ],
      "outputs": [],
      "metadata": {}
    },
    {
      "cell_type": "markdown",
      "source": [
        "# **Start Training!**"
      ],
      "metadata": {
        "id": "sX2B_zgSOPTJ"
      }
    },
    {
      "cell_type": "code",
      "execution_count": 15,
      "source": [
        "# model_loss, model_loss_record = train(tr_set, dv_set, model, config, device)"
      ],
      "outputs": [],
      "metadata": {
        "colab": {
          "base_uri": "https://localhost:8080/"
        },
        "id": "GrEbUxazQAAZ",
        "outputId": "2190df3d-28a1-4849-a9a8-5179cff3130d"
      }
    },
    {
      "cell_type": "code",
      "execution_count": 16,
      "source": [
        "%%time\n",
        "model_loss, model_loss_record = train(tr_set, dv_set, model, config)"
      ],
      "outputs": [
        {
          "output_type": "stream",
          "name": "stdout",
          "text": [
            "train_loss: 13.7021\n",
            "Saving model (epoch =    1  loss = 13.5217 )\n",
            "train_loss: 13.2614\n",
            "Saving model (epoch =    2  loss = 12.0933 )\n",
            "train_loss: 11.6354\n",
            "Saving model (epoch =    3  loss = 9.5159 )\n",
            "train_loss: 9.0623\n",
            "Saving model (epoch =    4  loss = 6.6277 )\n",
            "train_loss: 6.2636\n",
            "Saving model (epoch =    5  loss = 4.2326 )\n",
            "train_loss: 3.9970\n",
            "Saving model (epoch =    6  loss = 2.6963 )\n",
            "train_loss: 2.5579\n",
            "Saving model (epoch =    7  loss = 1.9019 )\n",
            "train_loss: 1.8066\n",
            "Saving model (epoch =    8  loss = 1.5314 )\n",
            "train_loss: 1.4391\n",
            "Saving model (epoch =    9  loss = 1.3464 )\n",
            "train_loss: 1.2573\n",
            "Saving model (epoch =   10  loss = 1.2383 )\n",
            "train_loss: 1.1523\n",
            "Saving model (epoch =   11  loss = 1.1696 )\n",
            "train_loss: 1.0756\n",
            "Saving model (epoch =   12  loss = 1.1220 )\n",
            "train_loss: 1.0323\n",
            "Saving model (epoch =   13  loss = 1.0880 )\n",
            "train_loss: 0.9948\n",
            "Saving model (epoch =   14  loss = 1.0619 )\n",
            "train_loss: 0.9704\n",
            "Saving model (epoch =   15  loss = 1.0429 )\n",
            "train_loss: 0.9480\n",
            "Saving model (epoch =   16  loss = 1.0273 )\n",
            "train_loss: 0.9319\n",
            "Saving model (epoch =   17  loss = 1.0160 )\n",
            "train_loss: 0.9203\n",
            "Saving model (epoch =   18  loss = 1.0068 )\n",
            "train_loss: 0.9089\n",
            "Saving model (epoch =   19  loss = 0.9991 )\n",
            "train_loss: 0.8997\n",
            "Saving model (epoch =   20  loss = 0.9932 )\n",
            "train_loss: 0.8954\n",
            "Saving model (epoch =   21  loss = 0.9879 )\n",
            "train_loss: 0.8912\n",
            "Saving model (epoch =   22  loss = 0.9838 )\n",
            "train_loss: 0.8854\n",
            "Saving model (epoch =   23  loss = 0.9808 )\n",
            "train_loss: 0.8804\n",
            "Saving model (epoch =   24  loss = 0.9784 )\n",
            "train_loss: 0.8767\n",
            "Saving model (epoch =   25  loss = 0.9756 )\n",
            "train_loss: 0.8735\n",
            "Saving model (epoch =   26  loss = 0.9733 )\n",
            "train_loss: 0.8725\n",
            "Saving model (epoch =   27  loss = 0.9716 )\n",
            "train_loss: 0.8662\n",
            "Saving model (epoch =   28  loss = 0.9702 )\n",
            "train_loss: 0.8679\n",
            "Saving model (epoch =   29  loss = 0.9691 )\n",
            "train_loss: 0.8682\n",
            "Saving model (epoch =   30  loss = 0.9678 )\n",
            "train_loss: 0.8651\n",
            "Saving model (epoch =   31  loss = 0.9667 )\n",
            "train_loss: 0.8691\n",
            "Saving model (epoch =   32  loss = 0.9664 )\n",
            "train_loss: 0.8635\n",
            "Saving model (epoch =   33  loss = 0.9650 )\n",
            "train_loss: 0.8596\n",
            "Saving model (epoch =   34  loss = 0.9645 )\n",
            "train_loss: 0.8621\n",
            "Saving model (epoch =   35  loss = 0.9638 )\n",
            "train_loss: 0.8615\n",
            "Saving model (epoch =   36  loss = 0.9636 )\n",
            "train_loss: 0.8536\n",
            "Saving model (epoch =   37  loss = 0.9630 )\n",
            "train_loss: 0.8589\n",
            "Saving model (epoch =   38  loss = 0.9627 )\n",
            "train_loss: 0.8573\n",
            "Saving model (epoch =   39  loss = 0.9622 )\n",
            "train_loss: 0.8593\n",
            "train_loss: 0.8574\n",
            "Saving model (epoch =   41  loss = 0.9615 )\n",
            "train_loss: 0.8543\n",
            "Saving model (epoch =   42  loss = 0.9611 )\n",
            "train_loss: 0.8550\n",
            "train_loss: 0.8565\n",
            "Saving model (epoch =   44  loss = 0.9605 )\n",
            "train_loss: 0.8593\n",
            "train_loss: 0.8550\n",
            "Saving model (epoch =   46  loss = 0.9603 )\n",
            "train_loss: 0.8558\n",
            "Saving model (epoch =   47  loss = 0.9598 )\n",
            "train_loss: 0.8546\n",
            "train_loss: 0.8540\n",
            "train_loss: 0.8542\n",
            "Saving model (epoch =   50  loss = 0.9595 )\n",
            "train_loss: 0.8560\n",
            "Saving model (epoch =   51  loss = 0.9594 )\n",
            "train_loss: 0.8531\n",
            "Saving model (epoch =   52  loss = 0.9591 )\n",
            "train_loss: 0.8555\n",
            "Saving model (epoch =   53  loss = 0.9590 )\n",
            "train_loss: 0.8547\n",
            "train_loss: 0.8527\n",
            "train_loss: 0.8548\n",
            "Saving model (epoch =   56  loss = 0.9586 )\n",
            "train_loss: 0.8513\n",
            "train_loss: 0.8552\n",
            "train_loss: 0.8544\n",
            "train_loss: 0.8532\n",
            "Saving model (epoch =   60  loss = 0.9585 )\n",
            "train_loss: 0.8506\n",
            "train_loss: 0.8521\n",
            "Saving model (epoch =   62  loss = 0.9584 )\n",
            "train_loss: 0.8530\n",
            "Saving model (epoch =   63  loss = 0.9582 )\n",
            "train_loss: 0.8495\n",
            "train_loss: 0.8506\n",
            "train_loss: 0.8507\n",
            "Saving model (epoch =   66  loss = 0.9581 )\n",
            "train_loss: 0.8549\n",
            "Saving model (epoch =   67  loss = 0.9580 )\n",
            "train_loss: 0.8490\n",
            "Saving model (epoch =   68  loss = 0.9575 )\n",
            "train_loss: 0.8526\n",
            "train_loss: 0.8520\n",
            "train_loss: 0.8519\n",
            "train_loss: 0.8503\n",
            "train_loss: 0.8503\n",
            "train_loss: 0.8491\n",
            "Saving model (epoch =   74  loss = 0.9574 )\n",
            "train_loss: 0.8485\n",
            "Saving model (epoch =   75  loss = 0.9572 )\n",
            "train_loss: 0.8490\n",
            "train_loss: 0.8508\n",
            "train_loss: 0.8481\n",
            "Saving model (epoch =   78  loss = 0.9570 )\n",
            "train_loss: 0.8481\n",
            "train_loss: 0.8480\n",
            "Saving model (epoch =   80  loss = 0.9564 )\n",
            "train_loss: 0.8481\n",
            "train_loss: 0.8453\n",
            "train_loss: 0.8488\n",
            "train_loss: 0.8492\n",
            "Saving model (epoch =   84  loss = 0.9561 )\n",
            "train_loss: 0.8454\n",
            "Saving model (epoch =   85  loss = 0.9561 )\n",
            "train_loss: 0.8480\n",
            "Saving model (epoch =   86  loss = 0.9559 )\n",
            "train_loss: 0.8455\n",
            "train_loss: 0.8446\n",
            "Saving model (epoch =   88  loss = 0.9553 )\n",
            "train_loss: 0.8426\n",
            "Saving model (epoch =   89  loss = 0.9552 )\n",
            "train_loss: 0.8445\n",
            "train_loss: 0.8422\n",
            "Saving model (epoch =   91  loss = 0.9541 )\n",
            "train_loss: 0.8416\n",
            "train_loss: 0.8416\n",
            "Saving model (epoch =   93  loss = 0.9539 )\n",
            "train_loss: 0.8403\n",
            "train_loss: 0.8410\n",
            "Saving model (epoch =   95  loss = 0.9534 )\n",
            "train_loss: 0.8393\n",
            "train_loss: 0.8390\n",
            "Saving model (epoch =   97  loss = 0.9525 )\n",
            "train_loss: 0.8362\n",
            "Saving model (epoch =   98  loss = 0.9524 )\n",
            "train_loss: 0.8353\n",
            "Saving model (epoch =   99  loss = 0.9521 )\n",
            "train_loss: 0.8362\n",
            "Saving model (epoch =  100  loss = 0.9512 )\n",
            "train_loss: 0.8327\n",
            "train_loss: 0.8311\n",
            "Saving model (epoch =  102  loss = 0.9508 )\n",
            "train_loss: 0.8317\n",
            "Saving model (epoch =  103  loss = 0.9502 )\n",
            "train_loss: 0.8318\n",
            "Saving model (epoch =  104  loss = 0.9495 )\n",
            "train_loss: 0.8284\n",
            "Saving model (epoch =  105  loss = 0.9492 )\n",
            "train_loss: 0.8277\n",
            "Saving model (epoch =  106  loss = 0.9483 )\n",
            "train_loss: 0.8279\n",
            "Saving model (epoch =  107  loss = 0.9482 )\n",
            "train_loss: 0.8219\n",
            "Saving model (epoch =  108  loss = 0.9471 )\n",
            "train_loss: 0.8251\n",
            "Saving model (epoch =  109  loss = 0.9465 )\n",
            "train_loss: 0.8204\n",
            "Saving model (epoch =  110  loss = 0.9462 )\n",
            "train_loss: 0.8215\n",
            "Saving model (epoch =  111  loss = 0.9450 )\n",
            "train_loss: 0.8210\n",
            "Saving model (epoch =  112  loss = 0.9440 )\n",
            "train_loss: 0.8187\n",
            "Saving model (epoch =  113  loss = 0.9434 )\n",
            "train_loss: 0.8132\n",
            "Saving model (epoch =  114  loss = 0.9427 )\n",
            "train_loss: 0.8082\n",
            "Saving model (epoch =  115  loss = 0.9423 )\n",
            "train_loss: 0.8081\n",
            "Saving model (epoch =  116  loss = 0.9408 )\n",
            "train_loss: 0.8080\n",
            "Saving model (epoch =  117  loss = 0.9399 )\n",
            "train_loss: 0.8031\n",
            "Saving model (epoch =  118  loss = 0.9391 )\n",
            "train_loss: 0.8019\n",
            "Saving model (epoch =  119  loss = 0.9383 )\n",
            "train_loss: 0.8009\n",
            "Saving model (epoch =  120  loss = 0.9370 )\n",
            "train_loss: 0.7968\n",
            "Saving model (epoch =  121  loss = 0.9363 )\n",
            "train_loss: 0.7933\n",
            "Saving model (epoch =  122  loss = 0.9355 )\n",
            "train_loss: 0.7905\n",
            "Saving model (epoch =  123  loss = 0.9346 )\n",
            "train_loss: 0.7888\n",
            "Saving model (epoch =  124  loss = 0.9342 )\n",
            "train_loss: 0.7851\n",
            "Saving model (epoch =  125  loss = 0.9327 )\n",
            "train_loss: 0.7839\n",
            "Saving model (epoch =  126  loss = 0.9320 )\n",
            "train_loss: 0.7803\n",
            "Saving model (epoch =  127  loss = 0.9307 )\n",
            "train_loss: 0.7764\n",
            "Saving model (epoch =  128  loss = 0.9299 )\n",
            "train_loss: 0.7733\n",
            "Saving model (epoch =  129  loss = 0.9287 )\n",
            "train_loss: 0.7699\n",
            "Saving model (epoch =  130  loss = 0.9284 )\n",
            "train_loss: 0.7707\n",
            "Saving model (epoch =  131  loss = 0.9270 )\n",
            "train_loss: 0.7665\n",
            "Saving model (epoch =  132  loss = 0.9259 )\n",
            "train_loss: 0.7630\n",
            "Saving model (epoch =  133  loss = 0.9254 )\n",
            "train_loss: 0.7588\n",
            "Saving model (epoch =  134  loss = 0.9244 )\n",
            "train_loss: 0.7588\n",
            "Saving model (epoch =  135  loss = 0.9239 )\n",
            "train_loss: 0.7529\n",
            "Saving model (epoch =  136  loss = 0.9231 )\n",
            "train_loss: 0.7479\n",
            "Saving model (epoch =  137  loss = 0.9224 )\n",
            "train_loss: 0.7450\n",
            "Saving model (epoch =  138  loss = 0.9208 )\n",
            "train_loss: 0.7427\n",
            "Saving model (epoch =  139  loss = 0.9204 )\n",
            "train_loss: 0.7399\n",
            "Saving model (epoch =  140  loss = 0.9202 )\n",
            "train_loss: 0.7368\n",
            "Saving model (epoch =  141  loss = 0.9195 )\n",
            "train_loss: 0.7331\n",
            "Saving model (epoch =  142  loss = 0.9184 )\n",
            "train_loss: 0.7317\n",
            "Saving model (epoch =  143  loss = 0.9181 )\n",
            "train_loss: 0.7245\n",
            "train_loss: 0.7261\n",
            "Saving model (epoch =  145  loss = 0.9174 )\n",
            "train_loss: 0.7198\n",
            "Saving model (epoch =  146  loss = 0.9165 )\n",
            "train_loss: 0.7141\n",
            "Saving model (epoch =  147  loss = 0.9161 )\n",
            "train_loss: 0.7132\n",
            "Saving model (epoch =  148  loss = 0.9157 )\n",
            "train_loss: 0.7090\n",
            "Saving model (epoch =  149  loss = 0.9147 )\n",
            "train_loss: 0.7084\n",
            "train_loss: 0.7006\n",
            "Saving model (epoch =  151  loss = 0.9139 )\n",
            "train_loss: 0.6981\n",
            "train_loss: 0.6965\n",
            "train_loss: 0.6902\n",
            "Saving model (epoch =  154  loss = 0.9139 )\n",
            "train_loss: 0.6886\n",
            "Saving model (epoch =  155  loss = 0.9136 )\n",
            "train_loss: 0.6856\n",
            "Saving model (epoch =  156  loss = 0.9131 )\n",
            "train_loss: 0.6809\n",
            "Saving model (epoch =  157  loss = 0.9130 )\n",
            "train_loss: 0.6776\n",
            "Saving model (epoch =  158  loss = 0.9121 )\n",
            "train_loss: 0.6716\n",
            "train_loss: 0.6685\n",
            "train_loss: 0.6673\n",
            "train_loss: 0.6605\n",
            "train_loss: 0.6560\n",
            "train_loss: 0.6527\n",
            "train_loss: 0.6485\n",
            "Saving model (epoch =  165  loss = 0.9119 )\n",
            "train_loss: 0.6452\n",
            "train_loss: 0.6403\n",
            "train_loss: 0.6375\n",
            "train_loss: 0.6350\n",
            "train_loss: 0.6289\n",
            "train_loss: 0.6272\n",
            "train_loss: 0.6208\n",
            "train_loss: 0.6185\n",
            "train_loss: 0.6126\n",
            "train_loss: 0.6077\n",
            "train_loss: 0.6064\n",
            "train_loss: 0.6018\n",
            "train_loss: 0.5970\n",
            "train_loss: 0.5925\n",
            "train_loss: 0.5877\n",
            "train_loss: 0.5836\n",
            "train_loss: 0.5785\n",
            "train_loss: 0.5737\n",
            "train_loss: 0.5729\n",
            "train_loss: 0.5692\n",
            "train_loss: 0.5630\n",
            "train_loss: 0.5606\n",
            "train_loss: 0.5566\n",
            "train_loss: 0.5513\n",
            "train_loss: 0.5482\n",
            "train_loss: 0.5417\n",
            "train_loss: 0.5395\n",
            "train_loss: 0.5347\n",
            "train_loss: 0.5329\n",
            "train_loss: 0.5294\n",
            "train_loss: 0.5231\n",
            "train_loss: 0.5205\n",
            "train_loss: 0.5169\n",
            "train_loss: 0.5111\n",
            "train_loss: 0.5080\n",
            "train_loss: 0.5050\n",
            "train_loss: 0.5009\n",
            "train_loss: 0.4973\n",
            "train_loss: 0.4943\n",
            "train_loss: 0.4900\n",
            "train_loss: 0.4872\n",
            "train_loss: 0.4823\n",
            "train_loss: 0.4803\n",
            "train_loss: 0.4769\n",
            "train_loss: 0.4728\n",
            "train_loss: 0.4689\n",
            "train_loss: 0.4673\n",
            "train_loss: 0.4634\n",
            "train_loss: 0.4608\n",
            "train_loss: 0.4578\n",
            "train_loss: 0.4553\n",
            "train_loss: 0.4508\n",
            "train_loss: 0.4491\n",
            "train_loss: 0.4441\n",
            "train_loss: 0.4417\n",
            "train_loss: 0.4402\n",
            "train_loss: 0.4375\n",
            "train_loss: 0.4330\n",
            "train_loss: 0.4324\n",
            "train_loss: 0.4288\n",
            "train_loss: 0.4278\n",
            "train_loss: 0.4230\n",
            "train_loss: 0.4207\n",
            "train_loss: 0.4192\n",
            "train_loss: 0.4157\n",
            "train_loss: 0.4137\n",
            "train_loss: 0.4107\n",
            "train_loss: 0.4086\n",
            "train_loss: 0.4087\n",
            "train_loss: 0.4058\n",
            "train_loss: 0.4024\n",
            "train_loss: 0.4008\n",
            "train_loss: 0.3994\n",
            "train_loss: 0.3961\n",
            "train_loss: 0.3946\n",
            "train_loss: 0.3937\n",
            "train_loss: 0.3917\n",
            "train_loss: 0.3886\n",
            "train_loss: 0.3877\n",
            "train_loss: 0.3856\n",
            "train_loss: 0.3849\n",
            "train_loss: 0.3835\n",
            "train_loss: 0.3808\n",
            "train_loss: 0.3795\n",
            "train_loss: 0.3779\n",
            "train_loss: 0.3746\n",
            "train_loss: 0.3744\n",
            "train_loss: 0.3734\n",
            "train_loss: 0.3718\n",
            "train_loss: 0.3691\n",
            "train_loss: 0.3682\n",
            "train_loss: 0.3657\n",
            "train_loss: 0.3665\n",
            "train_loss: 0.3643\n",
            "train_loss: 0.3642\n",
            "train_loss: 0.3617\n",
            "train_loss: 0.3606\n",
            "train_loss: 0.3591\n",
            "train_loss: 0.3592\n",
            "train_loss: 0.3581\n",
            "train_loss: 0.3559\n",
            "Finish training after 266 epochs\n"
          ]
        }
      ],
      "metadata": {}
    },
    {
      "cell_type": "code",
      "execution_count": 17,
      "source": [
        "# train2()"
      ],
      "outputs": [],
      "metadata": {}
    },
    {
      "cell_type": "code",
      "execution_count": 18,
      "source": [
        "plot_learning_curve(model_loss_record, title='MF model')"
      ],
      "outputs": [
        {
          "output_type": "display_data",
          "data": {
            "text/plain": [
              "<Figure size 432x288 with 1 Axes>"
            ],
            "image/png": "[encoded data removed]"
          },
          "metadata": {
            "needs_background": "light"
          }
        }
      ],
      "metadata": {
        "colab": {
          "base_uri": "https://localhost:8080/",
          "height": 295
        },
        "id": "hsNO9nnXQBvP",
        "outputId": "01787b1a-86eb-4560-81ad-62766a56b2b6"
      }
    },
    {
      "cell_type": "code",
      "execution_count": 23,
      "source": [
        "%%time\n",
        "model_loss"
      ],
      "outputs": [
        {
          "output_type": "stream",
          "name": "stdout",
          "text": [
            "CPU times: user 16 µs, sys: 0 ns, total: 16 µs\n",
            "Wall time: 30.5 µs\n"
          ]
        },
        {
          "output_type": "execute_result",
          "data": {
            "text/plain": [
              "0.911939200758934"
            ]
          },
          "metadata": {},
          "execution_count": 23
        }
      ],
      "metadata": {}
    },
    {
      "cell_type": "code",
      "execution_count": 20,
      "source": [
        "model_loss_record['dev'][-1]"
      ],
      "outputs": [
        {
          "output_type": "execute_result",
          "data": {
            "text/plain": [
              "1.0368753135204316"
            ]
          },
          "metadata": {},
          "execution_count": 20
        }
      ],
      "metadata": {}
    },
    {
      "cell_type": "code",
      "execution_count": 21,
      "source": [
        "del model\n",
        "model = MF().to(device)\n",
        "ckpt = torch.load(config['save_path'], map_location='cpu')  # Load your best model\n",
        "model.load_state_dict(ckpt)\n",
        "# plot_pred(dv_set, model, device)  # Show prediction on the validation set\n",
        "dev(dv_set, model, device)"
      ],
      "outputs": [
        {
          "output_type": "execute_result",
          "data": {
            "text/plain": [
              "0.911939200758934"
            ]
          },
          "metadata": {},
          "execution_count": 21
        }
      ],
      "metadata": {
        "colab": {
          "base_uri": "https://localhost:8080/",
          "height": 350
        },
        "id": "3iZTVn5WQFpX",
        "outputId": "c2e65627-13cd-46f9-e51b-5973eb26d865"
      }
    },
    {
      "cell_type": "markdown",
      "source": [
        "# **Testing**\n",
        "The predictions of your model on testing set will be stored at `pred.csv`."
      ],
      "metadata": {
        "id": "aQikz3IPiyPf"
      }
    },
    {
      "cell_type": "code",
      "execution_count": 22,
      "source": [
        "# def save_pred(preds, file):\n",
        "#     ''' Save predictions to specified file '''\n",
        "#     print('Saving results to {}'.format(file))\n",
        "#     with open(file, 'w') as fp:\n",
        "#         writer = csv.writer(fp)\n",
        "#         writer.writerow(['id', 'tested_positive'])\n",
        "#         for i, p in enumerate(preds):\n",
        "#             writer.writerow([i, p])\n",
        "\n",
        "# preds = test(tt_set, model, device)  # predict COVID-19 cases with your model\n",
        "# save_pred(preds, 'pred.csv')         # save prediction file to pred.csv"
      ],
      "outputs": [],
      "metadata": {
        "colab": {
          "base_uri": "https://localhost:8080/"
        },
        "id": "O8cTuQjQQOon",
        "outputId": "30dfbdf5-3b47-4bec-a993-e306f49f47a5"
      }
    },
    {
      "cell_type": "markdown",
      "source": [
        "# **Hints**\n",
        "\n",
        "## **Simple Baseline**\n",
        "* Run sample code\n",
        "\n",
        "## **Medium Baseline**\n",
        "* Feature selection: 40 states + 2 `tested_positive` (`TODO` in dataset)\n",
        "\n",
        "## **Strong Baseline**\n",
        "* Feature selection (what other features are useful?)\n",
        "* DNN architecture (layers? dimension? activation function?)\n",
        "* Training (mini-batch? optimizer? learning rate?)\n",
        "* L2 regularization\n",
        "* There are some mistakes in the sample code, can you find them?"
      ],
      "metadata": {
        "id": "nfrVxqJanGpE"
      }
    },
    {
      "cell_type": "markdown",
      "source": [
        "# **Reference**\n",
        "This code is completely written by Heng-Jui Chang @ NTUEE.  \n",
        "Copying or reusing this code is required to specify the original author. \n",
        "\n",
        "E.g.  \n",
        "Source: Heng-Jui Chang @ NTUEE (https://github.com/ga642381/ML2021-Spring/blob/main/HW01/HW01.ipynb)\n"
      ],
      "metadata": {
        "id": "9tmCwXgpot3t"
      }
    }
  ]
}