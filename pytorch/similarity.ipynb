{
 "cells": [
  {
   "cell_type": "code",
   "execution_count": 1,
   "source": [
    "# PyTorch\n",
    "import torch\n",
    "import torch.nn as nn\n",
    "from torch.utils.data import Dataset, DataLoader\n",
    "\n",
    "# For data preprocess\n",
    "import numpy as np\n",
    "import csv\n",
    "import os\n",
    "\n",
    "# For plotting\n",
    "import matplotlib.pyplot as plt\n",
    "from matplotlib.pyplot import figure\n",
    "from utils.mylib import *\n",
    "from d2l import torch as d2l\n",
    "from math import sqrt"
   ],
   "outputs": [],
   "metadata": {}
  },
  {
   "cell_type": "code",
   "execution_count": 2,
   "source": [
    "n, m = 1050, 2050\n",
    "records = np.loadtxt('../data/ML100K/ML100K_copy1_train.txt', dtype='long')\n",
    "records = records[:, :3]\n",
    "\n",
    "R = np.zeros([n, m], dtype=np.int32)\n",
    "for record in records:\n",
    "    R[record[0], record[1]] = record[2]\n"
   ],
   "outputs": [],
   "metadata": {}
  },
  {
   "cell_type": "code",
   "execution_count": 3,
   "source": [
    "y = np.where(R, 1, 0)\n",
    "y_user = np.sum(y, axis=1)\n",
    "y_item = np.sum(y, axis=0)\n",
    "\n",
    "# Global average of rating\n",
    "r = np.sum(R) / np.sum(y)\n",
    "y_user = np.sum(y, axis=1)\n",
    "r_u = np.where(y_user,\n",
    "               np.sum(R, axis=1) / y_user,\n",
    "               r)"
   ],
   "outputs": [
    {
     "output_type": "stream",
     "name": "stderr",
     "text": [
      "/tmp/ipykernel_71208/2790339830.py:9: RuntimeWarning: invalid value encountered in true_divide\n",
      "  np.sum(R, axis=1) / y_user,\n"
     ]
    }
   ],
   "metadata": {}
  },
  {
   "cell_type": "code",
   "execution_count": 4,
   "source": [
    "s_i = np.zeros([m, m])\n",
    "for i in range(m):\n",
    "    for j in range(m // 2):\n",
    "        users = (R[:, i] != 0) * (R[:, j] != 0)\n",
    "        if users.sum() == 0:\n",
    "            continue\n",
    "        vec_i = R[users, i] - r_u[users]\n",
    "        vec_j = R[users, j] - r_u[users]\n",
    "\n",
    "        dot = vec_i.dot(vec_j)\n",
    "        mag_vec_i = sqrt(np.square(vec_i).sum())\n",
    "        mag_vec_j = sqrt(np.square(vec_j).sum())\n",
    "        if mag_vec_i == 0 or mag_vec_j == 0:\n",
    "            continue\n",
    "        similarity = dot / mag_vec_i / mag_vec_j\n",
    "\n",
    "        s_i[i, j] = s_i[j, i] = similarity"
   ],
   "outputs": [],
   "metadata": {}
  },
  {
   "cell_type": "code",
   "execution_count": 5,
   "source": [
    "s_i.min()"
   ],
   "outputs": [
    {
     "output_type": "execute_result",
     "data": {
      "text/plain": [
       "-1.0000000000000002"
      ]
     },
     "metadata": {},
     "execution_count": 5
    }
   ],
   "metadata": {}
  },
  {
   "cell_type": "code",
   "execution_count": 6,
   "source": [
    "s_i.max()"
   ],
   "outputs": [
    {
     "output_type": "execute_result",
     "data": {
      "text/plain": [
       "1.0000000000000004"
      ]
     },
     "metadata": {},
     "execution_count": 6
    }
   ],
   "metadata": {}
  },
  {
   "cell_type": "code",
   "execution_count": 7,
   "source": [
    "s_i.mean()"
   ],
   "outputs": [
    {
     "output_type": "execute_result",
     "data": {
      "text/plain": [
       "0.0031093084401356296"
      ]
     },
     "metadata": {},
     "execution_count": 7
    }
   ],
   "metadata": {}
  },
  {
   "cell_type": "code",
   "execution_count": 8,
   "source": [
    "s_i.std()"
   ],
   "outputs": [
    {
     "output_type": "execute_result",
     "data": {
      "text/plain": [
       "0.40915964498082247"
      ]
     },
     "metadata": {},
     "execution_count": 8
    }
   ],
   "metadata": {}
  },
  {
   "cell_type": "code",
   "execution_count": 9,
   "source": [
    "S = torch.from_numpy(s_i)"
   ],
   "outputs": [],
   "metadata": {}
  },
  {
   "cell_type": "code",
   "execution_count": 11,
   "source": [
    "torch.save(S, \"./similarity_100K.pt\")"
   ],
   "outputs": [],
   "metadata": {}
  },
  {
   "cell_type": "code",
   "execution_count": 19,
   "source": [
    "K = 20\n",
    "N = np.empty((m, K))"
   ],
   "outputs": [],
   "metadata": {}
  },
  {
   "cell_type": "code",
   "execution_count": 20,
   "source": [
    "for item in range(m):\n",
    "    # neighbours = np.where(s_i[:, item] > 0)[0]\n",
    "    neighbours = np.arange(m)\n",
    "    # have zero neighbour which was rated by the user\n",
    "    if len(neighbours) < K:\n",
    "        continue\n",
    "\n",
    "    # sort by similarity and select K of them\n",
    "    neighbours_aug = np.vstack([neighbours, s_i[item, neighbours]])\n",
    "    N[item] = neighbours[np.argsort(neighbours_aug[1, :])[-K:]]"
   ],
   "outputs": [],
   "metadata": {}
  },
  {
   "cell_type": "code",
   "execution_count": 24,
   "source": [
    "torch.save(torch.LongTensor(N), \"./N20_100K.pt\")"
   ],
   "outputs": [],
   "metadata": {}
  },
  {
   "cell_type": "code",
   "execution_count": null,
   "source": [],
   "outputs": [],
   "metadata": {}
  }
 ],
 "metadata": {
  "orig_nbformat": 4,
  "language_info": {
   "name": "python",
   "version": "3.8.10",
   "mimetype": "text/x-python",
   "codemirror_mode": {
    "name": "ipython",
    "version": 3
   },
   "pygments_lexer": "ipython3",
   "nbconvert_exporter": "python",
   "file_extension": ".py"
  },
  "kernelspec": {
   "name": "python3",
   "display_name": "Python 3.8.10 64-bit ('py38': conda)"
  },
  "interpreter": {
   "hash": "b1d710d4a2dd0e836743a9708dcf2dd87750cb6db75a03dbc0a1931aaec4e6cb"
  }
 },
 "nbformat": 4,
 "nbformat_minor": 2
}