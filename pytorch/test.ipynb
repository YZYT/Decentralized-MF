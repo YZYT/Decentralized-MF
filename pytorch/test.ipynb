{
  "nbformat": 4,
  "nbformat_minor": 2,
  "metadata": {
    "colab": {
      "name": "ML2021Spring - HW1.ipynb",
      "provenance": [],
      "collapsed_sections": []
    },
    "kernelspec": {
      "name": "python3",
      "display_name": "Python 3.8.10 64-bit ('py38': conda)"
    },
    "accelerator": "GPU",
    "language_info": {
      "name": "python",
      "version": "3.8.10",
      "mimetype": "text/x-python",
      "codemirror_mode": {
        "name": "ipython",
        "version": 3
      },
      "pygments_lexer": "ipython3",
      "nbconvert_exporter": "python",
      "file_extension": ".py"
    },
    "interpreter": {
      "hash": "b1d710d4a2dd0e836743a9708dcf2dd87750cb6db75a03dbc0a1931aaec4e6cb"
    }
  },
  "cells": [
    {
      "cell_type": "code",
      "execution_count": 1,
      "source": [
        "import torch\n",
        "import torch.nn as nn\n",
        "from torch.utils.data import Dataset, DataLoader\n",
        "\n",
        "# For data preprocess\n",
        "import numpy as np\n",
        "import csv\n",
        "import os\n",
        "\n",
        "# For plotting\n",
        "import matplotlib.pyplot as plt\n",
        "from matplotlib.pyplot import figure\n",
        "from utils.mylib import *\n",
        "from d2l import torch as d2l\n",
        "\n",
        "\n",
        "config = {\n",
        "    'sava_path': 'models/MF_1M.pth',\n",
        "    'batch_size': 500\n",
        "}\n",
        "init_Seed()\n",
        "device = get_device()                 # get the current available device ('cpu' or 'cuda')\n",
        "\n",
        "data_train = '../data/ML1M/ML1M_copy1_train.txt'\n",
        "data_test = '../data/ML1M/ML1M_copy1_test.txt'\n",
        "\n",
        "tr_set = prep_dataloader(data_train, 'train', config['batch_size'])\n",
        "dv_set = prep_dataloader(data_test, 'dev', config['batch_size'])\n",
        "# tt_set = prep_dataloader(\"data/ML100K/ML100K_copy1_test.txt\", 'test', config['batch_size'], target_only=target_only)\n",
        "\n"
      ],
      "outputs": [
        {
          "output_type": "stream",
          "name": "stdout",
          "text": [
            "GPU ready!\n",
            "Max user: 6040\n",
            "Max item: 3952\n",
            "Finished reading the train set of MoviesLen Dataset (600126 samples found, each dim = 2)\n",
            "Max user: 6040\n",
            "Max item: 3952\n",
            "Finished reading the dev set of MoviesLen Dataset (200041 samples found, each dim = 2)\n"
          ]
        }
      ],
      "metadata": {}
    },
    {
      "cell_type": "code",
      "execution_count": 2,
      "source": [
        "model = MF().to(device)\n",
        "ckpt = torch.load(config['sava_path'], map_location='cpu')  # Load your best model\n",
        "model.load_state_dict(ckpt)\n",
        "# plot_pred(dv_set, model, device)  # Show prediction on the validation set\n",
        "print(dev(dv_set, model, device))"
      ],
      "outputs": [
        {
          "output_type": "stream",
          "name": "stdout",
          "text": [
            "0.7528189614542324\n"
          ]
        }
      ],
      "metadata": {}
    },
    {
      "cell_type": "code",
      "execution_count": 7,
      "source": [
        "torch.save(model.V, \"./VTensor.pt\")\n",
        "\n",
        "y = torch.load(\"./VTensor.pt\")"
      ],
      "outputs": [],
      "metadata": {}
    },
    {
      "cell_type": "code",
      "execution_count": null,
      "source": [],
      "outputs": [],
      "metadata": {}
    }
  ]
}