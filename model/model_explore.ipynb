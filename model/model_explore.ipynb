{
 "cells": [
  {
   "cell_type": "code",
   "execution_count": 1,
   "source": [
    "import numpy as np\n",
    "import matplotlib.pyplot as plt\n",
    "import pandas as pd\n",
    "from sklearn import metrics"
   ],
   "outputs": [],
   "metadata": {}
  },
  {
   "cell_type": "code",
   "execution_count": 2,
   "source": [
    "def rmse_loss(ratings_test, ratings_predict):\n",
    "    return round(np.sqrt(metrics.mean_squared_error(ratings_test, ratings_predict)), 4)"
   ],
   "outputs": [],
   "metadata": {}
  },
  {
   "cell_type": "code",
   "execution_count": 3,
   "source": [
    "MAXN, MAXM, MAXK = 1005, 2005, 20\n",
    "U = np.empty((MAXN, MAXK), dtype=\"float32\")\n",
    "V = np.empty((MAXM, MAXK), dtype=\"float32\")"
   ],
   "outputs": [],
   "metadata": {}
  },
  {
   "cell_type": "code",
   "execution_count": 4,
   "source": [
    "with open(\"model_al0.100_et0.010.out\", \"r\") as f:\n",
    "    for i, line in enumerate(f):\n",
    "        if i < MAXN:\n",
    "            U[i] = np.array(line.split())\n",
    "        else:\n",
    "            V[i - MAXN] = np.array(line.split())\n"
   ],
   "outputs": [],
   "metadata": {}
  },
  {
   "cell_type": "code",
   "execution_count": null,
   "source": [],
   "outputs": [],
   "metadata": {}
  },
  {
   "cell_type": "code",
   "execution_count": 5,
   "source": [
    "records_train = np.loadtxt(\"../data/ML100K/ML100K_copy1_train.txt\", dtype=np.int32)\n",
    "records_test = np.loadtxt(\"../data/ML100K/ML100K_copy1_test.txt\", dtype=np.int32)\n",
    "\n",
    "ratings_test = records_test[:, 2]"
   ],
   "outputs": [],
   "metadata": {}
  },
  {
   "cell_type": "code",
   "execution_count": 6,
   "source": [
    "# print(rmse_loss(np.clip(U.dot(V.T)[records_test[:, 0], records_test[:, 1]], 1, 5), ratings_test))\n",
    "print(rmse_loss(U.dot(V.T)[records_test[:, 0], records_test[:, 1]], ratings_test))"
   ],
   "outputs": [
    {
     "output_type": "stream",
     "name": "stdout",
     "text": [
      "0.9408\n"
     ]
    }
   ],
   "metadata": {}
  },
  {
   "cell_type": "code",
   "execution_count": 7,
   "source": [
    "print(rmse_loss(U.dot(V.T)[records_train[:, 0], records_train[:, 1]], records_train[:, 2]))"
   ],
   "outputs": [
    {
     "output_type": "stream",
     "name": "stdout",
     "text": [
      "0.7723\n"
     ]
    }
   ],
   "metadata": {}
  },
  {
   "cell_type": "code",
   "execution_count": 9,
   "source": [
    "U.shape"
   ],
   "outputs": [
    {
     "output_type": "execute_result",
     "data": {
      "text/plain": [
       "(1005, 20)"
      ]
     },
     "metadata": {},
     "execution_count": 9
    }
   ],
   "metadata": {}
  },
  {
   "cell_type": "code",
   "execution_count": null,
   "source": [],
   "outputs": [],
   "metadata": {}
  }
 ],
 "metadata": {
  "orig_nbformat": 4,
  "language_info": {
   "name": "python",
   "version": "3.8.10",
   "mimetype": "text/x-python",
   "codemirror_mode": {
    "name": "ipython",
    "version": 3
   },
   "pygments_lexer": "ipython3",
   "nbconvert_exporter": "python",
   "file_extension": ".py"
  },
  "kernelspec": {
   "name": "python3",
   "display_name": "Python 3.8.10 64-bit ('py38': conda)"
  },
  "interpreter": {
   "hash": "b1d710d4a2dd0e836743a9708dcf2dd87750cb6db75a03dbc0a1931aaec4e6cb"
  }
 },
 "nbformat": 4,
 "nbformat_minor": 2
}